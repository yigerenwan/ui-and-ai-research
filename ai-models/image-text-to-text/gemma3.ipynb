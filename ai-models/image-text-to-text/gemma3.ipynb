{
 "cells": [
  {
   "cell_type": "code",
   "execution_count": 6,
   "id": "b43cf89c-0d6f-4529-bdbd-e5a1644b3a02",
   "metadata": {},
   "outputs": [
    {
     "data": {
      "application/vnd.jupyter.widget-view+json": {
       "model_id": "a40c9a11d9be400186d46c579883a9e8",
       "version_major": 2,
       "version_minor": 0
      },
      "text/plain": [
       "Loading checkpoint shards:   0%|          | 0/2 [00:00<?, ?it/s]"
      ]
     },
     "metadata": {},
     "output_type": "display_data"
    },
    {
     "name": "stderr",
     "output_type": "stream",
     "text": [
      "Device set to use cuda\n"
     ]
    }
   ],
   "source": [
    "from transformers import pipeline\n",
    "import torch\n",
    "from pprint import pprint\n",
    "\n",
    "pipe = pipeline(\n",
    "    \"image-text-to-text\",\n",
    "    model=\"google/gemma-3-4b-it\",\n",
    "    device=\"cuda\",\n",
    "    torch_dtype=torch.bfloat16\n",
    ")"
   ]
  },
  {
   "cell_type": "code",
   "execution_count": 7,
   "id": "983130d2-06a1-4334-a339-dc4678452c1f",
   "metadata": {},
   "outputs": [
    {
     "name": "stdout",
     "output_type": "stream",
     "text": [
      "[{'generated_text': [{'content': [{'text': 'You are a helpful assistant.',\n",
      "                                   'type': 'text'}],\n",
      "                      'role': 'system'},\n",
      "                     {'content': [{'type': 'image',\n",
      "                                   'url': 'https://huggingface.co/datasets/huggingface/documentation-images/resolve/main/p-blog/candy.JPG'},\n",
      "                                  {'text': 'What animal is on the candy?',\n",
      "                                   'type': 'text'}],\n",
      "                      'role': 'user'},\n",
      "                     {'content': \"Okay, let's take a look at the candy! \\n\"\n",
      "                                 '\\n'\n",
      "                                 'Based on the image, the animal on the candy '\n",
      "                                 'is a **turtle**. You can see the shell shape '\n",
      "                                 'and the head and legs.',\n",
      "                      'role': 'assistant'}],\n",
      "  'input_text': [{'content': [{'text': 'You are a helpful assistant.',\n",
      "                               'type': 'text'}],\n",
      "                  'role': 'system'},\n",
      "                 {'content': [{'type': 'image',\n",
      "                               'url': 'https://huggingface.co/datasets/huggingface/documentation-images/resolve/main/p-blog/candy.JPG'},\n",
      "                              {'text': 'What animal is on the candy?',\n",
      "                               'type': 'text'}],\n",
      "                  'role': 'user'}]}]\n"
     ]
    }
   ],
   "source": [
    "messages = [\n",
    "    {\n",
    "        \"role\": \"system\",\n",
    "        \"content\": [{\"type\": \"text\", \"text\": \"You are a helpful assistant.\"}]\n",
    "    },\n",
    "    {\n",
    "        \"role\": \"user\",\n",
    "        \"content\": [\n",
    "            {\"type\": \"image\", \"url\": \"https://huggingface.co/datasets/huggingface/documentation-images/resolve/main/p-blog/candy.JPG\"},\n",
    "            {\"type\": \"text\", \"text\": \"What animal is on the candy?\"}\n",
    "        ]\n",
    "    }\n",
    "]\n",
    "\n",
    "output = pipe(text=messages, max_new_tokens=200)\n",
    "pprint(output)\n",
    "# Okay, let's take a look! \n",
    "# Based on the image, the animal on the candy is a **turtle**. \n",
    "# You can see the shell shape and the head and legs."
   ]
  },
  {
   "cell_type": "code",
   "execution_count": null,
   "id": "a96def6f-57fd-4ff8-ad70-019dd54185ea",
   "metadata": {},
   "outputs": [],
   "source": []
  }
 ],
 "metadata": {
  "kernelspec": {
   "display_name": "Python 3 (ipykernel)",
   "language": "python",
   "name": "python3"
  },
  "language_info": {
   "codemirror_mode": {
    "name": "ipython",
    "version": 3
   },
   "file_extension": ".py",
   "mimetype": "text/x-python",
   "name": "python",
   "nbconvert_exporter": "python",
   "pygments_lexer": "ipython3",
   "version": "3.12.3"
  }
 },
 "nbformat": 4,
 "nbformat_minor": 5
}
