{
 "cells": [
  {
   "cell_type": "code",
   "execution_count": null,
   "id": "127f4738-1b25-4a91-b2a7-8ea8a28183b8",
   "metadata": {},
   "outputs": [],
   "source": [
    "from diffusers import CogView4Pipeline\n",
    "import torch\n",
    "\n",
    "pipe = CogView4Pipeline.from_pretrained(\"THUDM/CogView4-6B\", torch_dtype=torch.bfloat16)\n",
    "\n",
    "# Open it for reduce GPU memory usage\n",
    "pipe.enable_model_cpu_offload()\n",
    "pipe.vae.enable_slicing()\n",
    "pipe.vae.enable_tiling()"
   ]
  },
  {
   "cell_type": "code",
   "execution_count": null,
   "id": "7c3e5401-4d05-4677-a8b8-5bd20743a749",
   "metadata": {},
   "outputs": [],
   "source": [
    "prompt = \"A vibrant cherry red sports car sits proudly under the gleaming sun, its polished exterior smooth and flawless, casting a mirror-like reflection. The car features a low, aerodynamic body, angular headlights that gaze forward like predatory eyes, and a set of black, high-gloss racing rims that contrast starkly with the red. A subtle hint of chrome embellishes the grille and exhaust, while the tinted windows suggest a luxurious and private interior. The scene conveys a sense of speed and elegance, the car appearing as if it's about to burst into a sprint along a coastal road, with the ocean's azure waves crashing in the background.\"\n",
    "image = pipe(\n",
    "    prompt=prompt,\n",
    "    guidance_scale=3.5,\n",
    "    num_images_per_prompt=1,\n",
    "    num_inference_steps=50,\n",
    "    width=1024,\n",
    "    height=1024,\n",
    ").images[0]\n",
    "\n",
    "image.save(\"cogview42.png\")"
   ]
  },
  {
   "cell_type": "code",
   "execution_count": null,
   "id": "82ce72cc-f45f-48d0-ab91-b544d68e30bd",
   "metadata": {},
   "outputs": [],
   "source": []
  }
 ],
 "metadata": {
  "kernelspec": {
   "display_name": "Python 3 (ipykernel)",
   "language": "python",
   "name": "python3"
  },
  "language_info": {
   "codemirror_mode": {
    "name": "ipython",
    "version": 3
   },
   "file_extension": ".py",
   "mimetype": "text/x-python",
   "name": "python",
   "nbconvert_exporter": "python",
   "pygments_lexer": "ipython3",
   "version": "3.12.3"
  }
 },
 "nbformat": 4,
 "nbformat_minor": 5
}
